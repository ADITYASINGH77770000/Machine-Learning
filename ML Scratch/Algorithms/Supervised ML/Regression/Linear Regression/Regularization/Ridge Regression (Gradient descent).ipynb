{
 "cells": [
  {
   "cell_type": "code",
   "execution_count": 2,
   "id": "69caf590-a8ff-4620-b137-dcdf9b47b036",
   "metadata": {},
   "outputs": [],
   "source": [
    "from sklearn.datasets import load_diabetes\n",
    "from sklearn.metrics import r2_score\n",
    "import numpy as np"
   ]
  },
  {
   "cell_type": "code",
   "execution_count": 4,
   "id": "30df82a3-4207-444f-8e51-6bbfb53c3152",
   "metadata": {},
   "outputs": [],
   "source": [
    "x,y = load_diabetes(return_X_y=True)"
   ]
  },
  {
   "cell_type": "code",
   "execution_count": 6,
   "id": "3250bfb2-5f2a-452c-858f-d1eb66bf3bec",
   "metadata": {},
   "outputs": [],
   "source": [
    "from sklearn.model_selection import train_test_split"
   ]
  },
  {
   "cell_type": "code",
   "execution_count": 10,
   "id": "b7fe2e3d-8c99-4fc2-896d-8c7936fa9069",
   "metadata": {},
   "outputs": [],
   "source": [
    "x_train,x_test,y_train,y_test = train_test_split(x,y,test_size=0.2)"
   ]
  },
  {
   "cell_type": "code",
   "execution_count": 12,
   "id": "8abd867b-ddd1-45dd-90ec-e14f35644629",
   "metadata": {},
   "outputs": [],
   "source": [
    "from sklearn.linear_model import SGDRegressor"
   ]
  },
  {
   "cell_type": "code",
   "execution_count": 14,
   "id": "526a2ae4-edda-4bd2-8c98-398aaceff65b",
   "metadata": {},
   "outputs": [],
   "source": [
    "reg = SGDRegressor(penalty='l2',max_iter=500,eta0=0.1,learning_rate='constant',alpha=0.001)"
   ]
  },
  {
   "cell_type": "code",
   "execution_count": 16,
   "id": "d2940f96-6cda-4528-9adb-af7a7d1e0cca",
   "metadata": {},
   "outputs": [
    {
     "name": "stdout",
     "output_type": "stream",
     "text": [
      "R2 score 0.3282835992734312\n",
      "[  31.06009294 -113.69262117  366.84851064  256.28811869  -30.51469008\n",
      "  -51.05575585 -215.0583071   141.5985629   290.22222763  130.38690043]\n",
      "[145.58349043]\n"
     ]
    }
   ],
   "source": [
    "reg.fit(x_train,y_train)\n",
    "\n",
    "y_pred = reg.predict(x_test)\n",
    "print(\"R2 score\",r2_score(y_test,y_pred))\n",
    "print(reg.coef_)\n",
    "print(reg.intercept_)"
   ]
  },
  {
   "cell_type": "code",
   "execution_count": 18,
   "id": "2332e391-dc53-4161-a728-1fda3a01f132",
   "metadata": {},
   "outputs": [],
   "source": [
    "from sklearn.linear_model import Ridge\n",
    "reg = Ridge(alpha=0.001, max_iter=500,solver='sparse_cg')"
   ]
  },
  {
   "cell_type": "code",
   "execution_count": 20,
   "id": "cbb4c9b1-928e-4c8d-ba31-3ddcfe851bda",
   "metadata": {},
   "outputs": [
    {
     "name": "stdout",
     "output_type": "stream",
     "text": [
      "R2 score 0.3650367318427604\n",
      "[   3.02567614 -251.00591768  492.11529956  355.79814003 -743.21025047\n",
      "  451.7321857   -22.71044372  156.33039332  655.74246169   80.55718697]\n",
      "151.789126452063\n"
     ]
    }
   ],
   "source": [
    "reg.fit(x_train,y_train)\n",
    "\n",
    "y_pred = reg.predict(x_test)\n",
    "print(\"R2 score\",r2_score(y_test,y_pred))\n",
    "print(reg.coef_)\n",
    "print(reg.intercept_)"
   ]
  },
  {
   "cell_type": "code",
   "execution_count": 22,
   "id": "a455eb3a-447b-48f4-a920-a987e1e98ee8",
   "metadata": {},
   "outputs": [],
   "source": [
    "class MeraRidgeGD:\n",
    "    \n",
    "    def __init__(self,epochs,learning_rate,alpha):\n",
    "        \n",
    "        self.learning_rate = learning_rate\n",
    "        self.epochs = epochs\n",
    "        self.alpha = alpha\n",
    "        self.coef_ = None\n",
    "        self.intercept_ = None\n",
    "        \n",
    "    def fit(self,x_train,y_train):\n",
    "        \n",
    "        self.coef_ = np.ones(x_train.shape[1])\n",
    "        self.intercept_ = 0\n",
    "        thetha = np.insert(self.coef_,0,self.intercept_)\n",
    "        \n",
    "        x_train = np.insert(x_train,0,1,axis=1)\n",
    "        \n",
    "        for i in range(self.epochs):\n",
    "            thetha_der = np.dot(x_train.T,x_train).dot(thetha) - np.dot(x_train.T,y_train) + self.alpha*thetha\n",
    "            thetha = thetha - self.learning_rate*thetha_der\n",
    "        \n",
    "        self.coef_ = thetha[1:]\n",
    "        self.intercept_ = thetha[0]\n",
    "    \n",
    "    def predict(self,x_test):\n",
    "        \n",
    "        return np.dot(x_test,self.coef_) + self.intercept_"
   ]
  },
  {
   "cell_type": "code",
   "execution_count": 24,
   "id": "85242e45-b9bf-4003-9b88-a9d3a961f490",
   "metadata": {},
   "outputs": [],
   "source": [
    "reg  = MeraRidgeGD(epochs=500,alpha=0.001,learning_rate=0.005)"
   ]
  },
  {
   "cell_type": "code",
   "execution_count": 26,
   "id": "52c5b7ca-d278-44db-82df-41c2e9d576d5",
   "metadata": {},
   "outputs": [
    {
     "name": "stdout",
     "output_type": "stream",
     "text": [
      "R2 score 0.35731102055554465\n",
      "[  16.93279553 -187.06356788  465.94785173  316.95775502  -69.06220677\n",
      "  -94.12155934 -255.07860832  144.78317488  358.2363359   132.46366387]\n",
      "151.60547143479556\n"
     ]
    }
   ],
   "source": [
    "reg.fit(x_train,y_train)\n",
    "\n",
    "y_pred = reg.predict(x_test)\n",
    "print(\"R2 score\",r2_score(y_test,y_pred))\n",
    "print(reg.coef_)\n",
    "print(reg.intercept_)"
   ]
  },
  {
   "cell_type": "code",
   "execution_count": null,
   "id": "c758b0de-33bd-4abf-9f8f-529b6d774110",
   "metadata": {},
   "outputs": [],
   "source": []
  }
 ],
 "metadata": {
  "kernelspec": {
   "display_name": "condaenv",
   "language": "python",
   "name": "condaenv"
  },
  "language_info": {
   "codemirror_mode": {
    "name": "ipython",
    "version": 3
   },
   "file_extension": ".py",
   "mimetype": "text/x-python",
   "name": "python",
   "nbconvert_exporter": "python",
   "pygments_lexer": "ipython3",
   "version": "3.12.7"
  }
 },
 "nbformat": 4,
 "nbformat_minor": 5
}
