{
 "cells": [
  {
   "cell_type": "code",
   "execution_count": 21,
   "id": "b43cd85b-1b58-4ac2-8caf-8d4df7b76749",
   "metadata": {},
   "outputs": [],
   "source": [
    "import pandas as pd\n",
    "import requests"
   ]
  },
  {
   "cell_type": "code",
   "execution_count": 69,
   "id": "9d43f3e1-f773-47a8-a943-0a8451fbd87a",
   "metadata": {},
   "outputs": [],
   "source": [
    "response = requests.get(\"https://datasets-server.huggingface.co/rows?dataset=AI-MO%2FNuminaMath-CoT&config=default&split=train&offset=0&length=100\")"
   ]
  },
  {
   "cell_type": "code",
   "execution_count": 71,
   "id": "8e7def88-8826-42c1-b719-d19f4da733d2",
   "metadata": {},
   "outputs": [
    {
     "name": "stdout",
     "output_type": "stream",
     "text": [
      "           source                                            problem  \\\n",
      "0  synthetic_math  Consider the terms of an arithmetic sequence: ...   \n",
      "1  synthetic_math  Suppose that $g(x) = 5x - 3$. What is $g^{-1}(...   \n",
      "2  synthetic_math  A farmer has a rectangular field with dimensio...   \n",
      "3          cn_k12  Given the functions $f(x) = \\log_a(1+x)$ and $...   \n",
      "4  synthetic_math  Find all solutions to the equation $\\displayst...   \n",
      "\n",
      "                                            solution  \\\n",
      "0  For an arithmetic sequence, the difference bet...   \n",
      "1  First, we need to find the inverse function $g...   \n",
      "2  Using the given dimensions, we set up the area...   \n",
      "3  1. Since $f(x) = \\log_a(1+x)$ and $g(x) = \\log...   \n",
      "4  Start by isolating the cube root:\\n$$ \\sqrt[3]...   \n",
      "\n",
      "                                            messages  \n",
      "0  [{'content': 'Consider the terms of an arithme...  \n",
      "1  [{'content': 'Suppose that $g(x) = 5x - 3$. Wh...  \n",
      "2  [{'content': 'A farmer has a rectangular field...  \n",
      "3  [{'content': 'Given the functions $f(x) = \\log...  \n",
      "4  [{'content': 'Find all solutions to the equati...  \n"
     ]
    }
   ],
   "source": [
    "# Check if request was successful\n",
    "if response.status_code == 200:\n",
    "    data = response.json()\n",
    "\n",
    "    # Check if 'rows' key exists\n",
    "    if \"rows\" in data:\n",
    "        # Extract actual row data\n",
    "        rows = [row[\"row\"] for row in data[\"rows\"]]\n",
    "\n",
    "        # Convert to DataFrame\n",
    "        temp_df = pd.DataFrame(rows)\n",
    "\n",
    "        # Display first few rows\n",
    "        print(temp_df.head())\n",
    "    else:\n",
    "        print(\"No 'rows' key found in JSON response\")\n",
    "else:\n",
    "    print(f\"Error: {response.status_code}\")"
   ]
  },
  {
   "cell_type": "code",
   "execution_count": 73,
   "id": "e9c235fa-68ed-47d5-b7c6-17686898f71d",
   "metadata": {},
   "outputs": [
    {
     "name": "stdout",
     "output_type": "stream",
     "text": [
      " Data saved to 'huggingface_dataset.csv'\n"
     ]
    }
   ],
   "source": [
    "# Check if request was successful\n",
    "if response.status_code == 200:\n",
    "    data = response.json()\n",
    "\n",
    "    # Check if 'rows' key exists\n",
    "    if \"rows\" in data:\n",
    "        # Extract actual row data\n",
    "        rows = [row[\"row\"] for row in data[\"rows\"]]\n",
    "\n",
    "        # Convert to DataFrame\n",
    "        temp_df = pd.DataFrame(rows)\n",
    "\n",
    "        # Save to CSV file\n",
    "        temp_df.to_csv(\"huggingface_dataset.csv\", index=False, encoding=\"utf-8\")\n",
    "\n",
    "        print(\" Data saved to 'huggingface_dataset.csv'\")\n",
    "    else:\n",
    "        print(\" No 'rows' key found in JSON response\")\n",
    "else:\n",
    "    print(f\" Error: {response.status_code}\")"
   ]
  },
  {
   "cell_type": "code",
   "execution_count": 75,
   "id": "cdbd1264-e6c9-4529-bdb6-3d93ba1341f5",
   "metadata": {},
   "outputs": [],
   "source": [
    "df = pd.read_csv(\"huggingface_dataset.csv\")"
   ]
  },
  {
   "cell_type": "code",
   "execution_count": 77,
   "id": "ec55f3ba-1602-4f5d-9b28-1b7f39194d29",
   "metadata": {},
   "outputs": [
    {
     "data": {
      "text/html": [
       "<div>\n",
       "<style scoped>\n",
       "    .dataframe tbody tr th:only-of-type {\n",
       "        vertical-align: middle;\n",
       "    }\n",
       "\n",
       "    .dataframe tbody tr th {\n",
       "        vertical-align: top;\n",
       "    }\n",
       "\n",
       "    .dataframe thead th {\n",
       "        text-align: right;\n",
       "    }\n",
       "</style>\n",
       "<table border=\"1\" class=\"dataframe\">\n",
       "  <thead>\n",
       "    <tr style=\"text-align: right;\">\n",
       "      <th></th>\n",
       "      <th>source</th>\n",
       "      <th>problem</th>\n",
       "      <th>solution</th>\n",
       "      <th>messages</th>\n",
       "    </tr>\n",
       "  </thead>\n",
       "  <tbody>\n",
       "    <tr>\n",
       "      <th>0</th>\n",
       "      <td>synthetic_math</td>\n",
       "      <td>Consider the terms of an arithmetic sequence: ...</td>\n",
       "      <td>For an arithmetic sequence, the difference bet...</td>\n",
       "      <td>[{'content': 'Consider the terms of an arithme...</td>\n",
       "    </tr>\n",
       "    <tr>\n",
       "      <th>1</th>\n",
       "      <td>synthetic_math</td>\n",
       "      <td>Suppose that $g(x) = 5x - 3$. What is $g^{-1}(...</td>\n",
       "      <td>First, we need to find the inverse function $g...</td>\n",
       "      <td>[{'content': 'Suppose that $g(x) = 5x - 3$. Wh...</td>\n",
       "    </tr>\n",
       "    <tr>\n",
       "      <th>2</th>\n",
       "      <td>synthetic_math</td>\n",
       "      <td>A farmer has a rectangular field with dimensio...</td>\n",
       "      <td>Using the given dimensions, we set up the area...</td>\n",
       "      <td>[{'content': 'A farmer has a rectangular field...</td>\n",
       "    </tr>\n",
       "    <tr>\n",
       "      <th>3</th>\n",
       "      <td>cn_k12</td>\n",
       "      <td>Given the functions $f(x) = \\log_a(1+x)$ and $...</td>\n",
       "      <td>1. Since $f(x) = \\log_a(1+x)$ and $g(x) = \\log...</td>\n",
       "      <td>[{'content': 'Given the functions $f(x) = \\\\lo...</td>\n",
       "    </tr>\n",
       "    <tr>\n",
       "      <th>4</th>\n",
       "      <td>synthetic_math</td>\n",
       "      <td>Find all solutions to the equation $\\displayst...</td>\n",
       "      <td>Start by isolating the cube root:\\n$$ \\sqrt[3]...</td>\n",
       "      <td>[{'content': 'Find all solutions to the equati...</td>\n",
       "    </tr>\n",
       "  </tbody>\n",
       "</table>\n",
       "</div>"
      ],
      "text/plain": [
       "           source                                            problem  \\\n",
       "0  synthetic_math  Consider the terms of an arithmetic sequence: ...   \n",
       "1  synthetic_math  Suppose that $g(x) = 5x - 3$. What is $g^{-1}(...   \n",
       "2  synthetic_math  A farmer has a rectangular field with dimensio...   \n",
       "3          cn_k12  Given the functions $f(x) = \\log_a(1+x)$ and $...   \n",
       "4  synthetic_math  Find all solutions to the equation $\\displayst...   \n",
       "\n",
       "                                            solution  \\\n",
       "0  For an arithmetic sequence, the difference bet...   \n",
       "1  First, we need to find the inverse function $g...   \n",
       "2  Using the given dimensions, we set up the area...   \n",
       "3  1. Since $f(x) = \\log_a(1+x)$ and $g(x) = \\log...   \n",
       "4  Start by isolating the cube root:\\n$$ \\sqrt[3]...   \n",
       "\n",
       "                                            messages  \n",
       "0  [{'content': 'Consider the terms of an arithme...  \n",
       "1  [{'content': 'Suppose that $g(x) = 5x - 3$. Wh...  \n",
       "2  [{'content': 'A farmer has a rectangular field...  \n",
       "3  [{'content': 'Given the functions $f(x) = \\\\lo...  \n",
       "4  [{'content': 'Find all solutions to the equati...  "
      ]
     },
     "execution_count": 77,
     "metadata": {},
     "output_type": "execute_result"
    }
   ],
   "source": [
    "df.head()"
   ]
  },
  {
   "cell_type": "code",
   "execution_count": 79,
   "id": "d0abf146-119f-45d0-9d9b-0b013e96a96d",
   "metadata": {},
   "outputs": [
    {
     "data": {
      "text/plain": [
       "(100, 4)"
      ]
     },
     "execution_count": 79,
     "metadata": {},
     "output_type": "execute_result"
    }
   ],
   "source": [
    "df.shape"
   ]
  },
  {
   "cell_type": "code",
   "execution_count": 81,
   "id": "6661854c-a913-4db3-ad83-526900fa9b4c",
   "metadata": {},
   "outputs": [
    {
     "name": "stdout",
     "output_type": "stream",
     "text": [
      "<class 'pandas.core.frame.DataFrame'>\n",
      "RangeIndex: 100 entries, 0 to 99\n",
      "Data columns (total 4 columns):\n",
      " #   Column    Non-Null Count  Dtype \n",
      "---  ------    --------------  ----- \n",
      " 0   source    100 non-null    object\n",
      " 1   problem   100 non-null    object\n",
      " 2   solution  100 non-null    object\n",
      " 3   messages  100 non-null    object\n",
      "dtypes: object(4)\n",
      "memory usage: 3.3+ KB\n"
     ]
    }
   ],
   "source": [
    "df.info()"
   ]
  },
  {
   "cell_type": "code",
   "execution_count": null,
   "id": "33117170-0156-43db-82ae-27d5c0da4be3",
   "metadata": {},
   "outputs": [],
   "source": []
  }
 ],
 "metadata": {
  "kernelspec": {
   "display_name": "condaenv",
   "language": "python",
   "name": "condaenv"
  },
  "language_info": {
   "codemirror_mode": {
    "name": "ipython",
    "version": 3
   },
   "file_extension": ".py",
   "mimetype": "text/x-python",
   "name": "python",
   "nbconvert_exporter": "python",
   "pygments_lexer": "ipython3",
   "version": "3.12.7"
  }
 },
 "nbformat": 4,
 "nbformat_minor": 5
}
